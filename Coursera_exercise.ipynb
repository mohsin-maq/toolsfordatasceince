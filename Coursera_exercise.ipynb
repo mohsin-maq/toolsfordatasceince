{
 "cells": [
  {
   "cell_type": "markdown",
   "id": "3cfbabd8",
   "metadata": {},
   "source": [
    "Coursera_exercise"
   ]
  },
  {
   "cell_type": "markdown",
   "id": "24159a81",
   "metadata": {},
   "source": [
    "Introduction \n"
   ]
  },
  {
   "cell_type": "markdown",
   "id": "0df394ac",
   "metadata": {},
   "source": [
    "Data science languages:\n",
    "Python\n",
    "SQL\n",
    "R \n",
    "Julia\n",
    "JavaScript etc.\n"
   ]
  },
  {
   "cell_type": "markdown",
   "id": "f069dbd3",
   "metadata": {},
   "source": [
    "Data science libraries: \n",
    "Pandas\n",
    "scikit learn\n",
    "numpy\n",
    "seaborn\n",
    "tensorflow \n",
    "Pytorch"
   ]
  },
  {
   "cell_type": "markdown",
   "id": "7a1a869d",
   "metadata": {},
   "source": [
    "Data science tools : \n",
    "SAS\n",
    "Apache Spark \n",
    "BigML\n",
    "Excel etc."
   ]
  },
  {
   "cell_type": "markdown",
   "id": "e3ed5a79",
   "metadata": {},
   "source": [
    "INTRODUCTING ARITHMETIC:\n",
    "'+' for addition\n",
    "'-' for subtraction\n",
    "'*' for multiply\n",
    "'/' for division"
   ]
  },
  {
   "cell_type": "code",
   "execution_count": 14,
   "id": "70209c7c",
   "metadata": {},
   "outputs": [
    {
     "name": "stdout",
     "output_type": "stream",
     "text": [
      "6 $ 5\n"
     ]
    }
   ],
   "source": [
    "#multiply $ add\n",
    "mult=3*2\n",
    "add=3+2\n",
    "print(mult ,\"$\",add)"
   ]
  },
  {
   "cell_type": "code",
   "execution_count": 13,
   "id": "fbfc1d1d",
   "metadata": {},
   "outputs": [
    {
     "name": "stdout",
     "output_type": "stream",
     "text": [
      "enter minutes : 120\n",
      "2.0 hours\n"
     ]
    }
   ],
   "source": [
    "minutes=int(input('enter minutes : '))\n",
    "mintohour=float(minutes/60)\n",
    "print(mintohour,'hours')"
   ]
  },
  {
   "cell_type": "markdown",
   "id": "bb850d03",
   "metadata": {},
   "source": [
    "Objectives of the course:\n",
    "- Create and share a public Jupyter notebook, in any language, in Watson Studio and create markdown cells for peer review.\n",
    "- Evaluate and grade final assignments submitted by fellow learners using the given rubric. Provide constructive feedback and offer ideas and suggestions that fellow learners can apply right away.\n",
    "- Cite popular open source, commercial, and cloud-based tools used by data scientists.\n",
    "- Explain the function of an API and list some common API-related terms.\n",
    "- Discuss the characteristics of a dataset and the ways data can be structured.\n",
    "- Identify  some of the libraries used in data science and the types of functionalities a library can provide.\n",
    "- Compare and contrast between machine learning, deep learning and their use cases.\n",
    "- Discuss the different classes of machine learning models.\n",
    "- Summarize the advantages of using a pre-trained model as opposed to training a model from scratch.\n",
    "- Identify the languages, tools, and data used by data scientists.\n",
    "- Access and explore data sets in the Data Asset Exchange (DAX).\n",
    "- Examine deep learning models on the Model Asset Exchange (MAX) and interact with an image-detection deep learning model."
   ]
  },
  {
   "cell_type": "markdown",
   "id": "f4a5b0a6",
   "metadata": {},
   "source": [
    "Author : Murtuza Haider"
   ]
  },
  {
   "cell_type": "code",
   "execution_count": null,
   "id": "d77e4af5",
   "metadata": {},
   "outputs": [],
   "source": []
  }
 ],
 "metadata": {
  "kernelspec": {
   "display_name": "Python 3 (ipykernel)",
   "language": "python",
   "name": "python3"
  },
  "language_info": {
   "codemirror_mode": {
    "name": "ipython",
    "version": 3
   },
   "file_extension": ".py",
   "mimetype": "text/x-python",
   "name": "python",
   "nbconvert_exporter": "python",
   "pygments_lexer": "ipython3",
   "version": "3.9.13"
  }
 },
 "nbformat": 4,
 "nbformat_minor": 5
}
